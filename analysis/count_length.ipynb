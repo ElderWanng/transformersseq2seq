{
 "cells": [
  {
   "cell_type": "code",
   "execution_count": 24,
   "metadata": {},
   "outputs": [],
   "source": [
    "import matplotlib.pyplot as plt\n",
    "import nltk\n",
    "import json\n",
    "import numpy as np"
   ]
  },
  {
   "cell_type": "code",
   "execution_count": 29,
   "metadata": {},
   "outputs": [
    {
     "data": {
      "image/png": "[encoded data removed]",
      "text/plain": [
       "<Figure size 432x288 with 1 Axes>"
      ]
     },
     "metadata": {
      "needs_background": "light"
     },
     "output_type": "display_data"
    },
    {
     "name": "stdout",
     "output_type": "stream",
     "text": [
      "21.12627956230145\n"
     ]
    }
   ],
   "source": [
    "labels = [i[1] for i in res]\n",
    "preds = [i[0] for i in res]\n",
    "ids = [i[2] for i in res]\n",
    "\n",
    "lens = []\n",
    "for sent in labels:\n",
    "    lens.append(len(sent.split()))\n",
    "%matplotlib inline\n",
    "plt.hist(lens,20)\n",
    "# plt.title('Text Length Distribution - First 100 examples')\n",
    "plt.show()\n",
    "print(np.array(lens).mean())"
   ]
  },
  {
   "cell_type": "code",
   "execution_count": 25,
   "metadata": {},
   "outputs": [
    {
     "data": {
      "image/png": "[encoded data removed]",
      "text/plain": [
       "<Figure size 432x288 with 1 Axes>"
      ]
     },
     "metadata": {
      "needs_background": "light"
     },
     "output_type": "display_data"
    },
    {
     "name": "stdout",
     "output_type": "stream",
     "text": [
      "18.87089657606777\n"
     ]
    }
   ],
   "source": [
    "with open(\"../ori.txt\",\"r\") as input_file:\n",
    "    res = json.load(input_file)\n",
    "\n",
    "labels = [i[1] for i in res]\n",
    "preds = [i[0] for i in res]\n",
    "ids = [i[2] for i in res]\n",
    "\n",
    "lens = []\n",
    "for sent in preds:\n",
    "    lens.append(len(sent.split()))\n",
    "%matplotlib inline\n",
    "plt.hist(lens,20)\n",
    "# plt.title('Text Length Distribution - First 100 examples')\n",
    "plt.show()\n",
    "print(np.array(lens).mean())"
   ]
  },
  {
   "cell_type": "code",
   "execution_count": 26,
   "metadata": {},
   "outputs": [
    {
     "data": {
      "image/png": "[encoded data removed]",
      "text/plain": [
       "<Figure size 432x288 with 1 Axes>"
      ]
     },
     "metadata": {
      "needs_background": "light"
     },
     "output_type": "display_data"
    },
    {
     "name": "stdout",
     "output_type": "stream",
     "text": [
      "18.890751853159195\n"
     ]
    }
   ],
   "source": [
    "with open(\"../conres.txt\",\"r\") as input_file:\n",
    "    res = json.load(input_file)\n",
    "\n",
    "labels = [i[1] for i in res]\n",
    "preds = [i[0] for i in res]\n",
    "ids = [i[2] for i in res]\n",
    "\n",
    "lens = []\n",
    "for sent in preds:\n",
    "    lens.append(len(sent.split()))\n",
    "%matplotlib inline\n",
    "plt.hist(lens,20)\n",
    "# plt.title('Text Length Distribution - First 100 examples')\n",
    "plt.show()\n",
    "print(np.array(lens).mean())"
   ]
  },
  {
   "cell_type": "code",
   "execution_count": 27,
   "metadata": {},
   "outputs": [
    {
     "data": {
      "image/png": "[encoded data removed]",
      "text/plain": [
       "<Figure size 432x288 with 1 Axes>"
      ]
     },
     "metadata": {
      "needs_background": "light"
     },
     "output_type": "display_data"
    },
    {
     "name": "stdout",
     "output_type": "stream",
     "text": [
      "18.923226261913165\n"
     ]
    }
   ],
   "source": [
    "with open(\"../neures.txt\",\"r\") as input_file:\n",
    "    res = json.load(input_file)\n",
    "\n",
    "labels = [i[1] for i in res]\n",
    "preds = [i[0] for i in res]\n",
    "ids = [i[2] for i in res]\n",
    "\n",
    "lens = []\n",
    "for sent in preds:\n",
    "    lens.append(len(sent.split()))\n",
    "%matplotlib inline\n",
    "plt.hist(lens,20)\n",
    "# plt.title('Text Length Distribution - First 100 examples')\n",
    "plt.show()\n",
    "print(np.array(lens).mean())"
   ]
  },
  {
   "cell_type": "code",
   "execution_count": 28,
   "metadata": {},
   "outputs": [
    {
     "data": {
      "image/png": "[encoded data removed]",
      "text/plain": [
       "<Figure size 432x288 with 1 Axes>"
      ]
     },
     "metadata": {
      "needs_background": "light"
     },
     "output_type": "display_data"
    },
    {
     "name": "stdout",
     "output_type": "stream",
     "text": [
      "18.984292269678786\n"
     ]
    }
   ],
   "source": [
    "with open(\"../entres.txt\",\"r\") as input_file:\n",
    "    res = json.load(input_file)\n",
    "\n",
    "labels = [i[1] for i in res]\n",
    "preds = [i[0] for i in res]\n",
    "ids = [i[2] for i in res]\n",
    "\n",
    "lens = []\n",
    "for sent in preds:\n",
    "    lens.append(len(sent.split()))\n",
    "%matplotlib inline\n",
    "plt.hist(lens,20)\n",
    "# plt.title('Text Length Distribution - First 100 examples')\n",
    "plt.show()\n",
    "print(np.array(lens).mean())"
   ]
  },
  {
   "cell_type": "code",
   "execution_count": null,
   "metadata": {},
   "outputs": [],
   "source": []
  }
 ],
 "metadata": {
  "kernelspec": {
   "display_name": "Python 3 (ipykernel)",
   "language": "python",
   "name": "python3"
  },
  "language_info": {
   "codemirror_mode": {
    "name": "ipython",
    "version": 3
   },
   "file_extension": ".py",
   "mimetype": "text/x-python",
   "name": "python",
   "nbconvert_exporter": "python",
   "pygments_lexer": "ipython3",
   "version": "3.8.2"
  }
 },
 "nbformat": 4,
 "nbformat_minor": 1
}
